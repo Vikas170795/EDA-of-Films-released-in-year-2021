{
 "cells": [
  {
   "cell_type": "markdown",
   "id": "25d487bd",
   "metadata": {},
   "source": [
    "# Films Data Analysis Using Python"
   ]
  },
  {
   "cell_type": "markdown",
   "id": "d4b2ce42",
   "metadata": {},
   "source": [
    "#  Importing Libraries"
   ]
  },
  {
   "cell_type": "code",
   "execution_count": 169,
   "id": "5095141e",
   "metadata": {},
   "outputs": [],
   "source": [
    "import numpy as np\n",
    "import pandas as pd\n",
    "import matplotlib.pyplot as plt\n",
    "%matplotlib inline \n",
    "import seaborn as sn\n",
    "import os\n",
    "from pandas.plotting import scatter_matrix\n",
    "import warnings\n",
    "warnings.filterwarnings(\"ignore\")\n",
    "import seaborn as sn\n",
    "import datetime"
   ]
  },
  {
   "cell_type": "markdown",
   "id": "1f1f1772",
   "metadata": {},
   "source": [
    "# Importing the Dataset"
   ]
  },
  {
   "cell_type": "code",
   "execution_count": 170,
   "id": "f58ccb29",
   "metadata": {},
   "outputs": [
    {
     "data": {
      "text/html": [
       "<div>\n",
       "<style scoped>\n",
       "    .dataframe tbody tr th:only-of-type {\n",
       "        vertical-align: middle;\n",
       "    }\n",
       "\n",
       "    .dataframe tbody tr th {\n",
       "        vertical-align: top;\n",
       "    }\n",
       "\n",
       "    .dataframe thead th {\n",
       "        text-align: right;\n",
       "    }\n",
       "</style>\n",
       "<table border=\"1\" class=\"dataframe\">\n",
       "  <thead>\n",
       "    <tr style=\"text-align: right;\">\n",
       "      <th></th>\n",
       "      <th>year</th>\n",
       "      <th>month</th>\n",
       "      <th>language</th>\n",
       "      <th>movie_name</th>\n",
       "      <th>genre</th>\n",
       "      <th>result</th>\n",
       "      <th>imdb_rating</th>\n",
       "    </tr>\n",
       "  </thead>\n",
       "  <tbody>\n",
       "    <tr>\n",
       "      <th>0</th>\n",
       "      <td>2021</td>\n",
       "      <td>january</td>\n",
       "      <td>Kannada</td>\n",
       "      <td>Rajatantra</td>\n",
       "      <td>drama</td>\n",
       "      <td>average</td>\n",
       "      <td>NaN</td>\n",
       "    </tr>\n",
       "    <tr>\n",
       "      <th>1</th>\n",
       "      <td>2021</td>\n",
       "      <td>january</td>\n",
       "      <td>Kannada</td>\n",
       "      <td>Amruthavahini</td>\n",
       "      <td>drama</td>\n",
       "      <td>flop</td>\n",
       "      <td>NaN</td>\n",
       "    </tr>\n",
       "    <tr>\n",
       "      <th>2</th>\n",
       "      <td>2021</td>\n",
       "      <td>january</td>\n",
       "      <td>Kannada</td>\n",
       "      <td>Mahishasura</td>\n",
       "      <td>drama</td>\n",
       "      <td>average</td>\n",
       "      <td>8.6</td>\n",
       "    </tr>\n",
       "    <tr>\n",
       "      <th>3</th>\n",
       "      <td>2021</td>\n",
       "      <td>january</td>\n",
       "      <td>Kannada</td>\n",
       "      <td>Vikky</td>\n",
       "      <td>drama</td>\n",
       "      <td>flop</td>\n",
       "      <td>NaN</td>\n",
       "    </tr>\n",
       "    <tr>\n",
       "      <th>4</th>\n",
       "      <td>2021</td>\n",
       "      <td>january</td>\n",
       "      <td>Kannada</td>\n",
       "      <td>kathle kaadu</td>\n",
       "      <td>drama</td>\n",
       "      <td>flop</td>\n",
       "      <td>NaN</td>\n",
       "    </tr>\n",
       "  </tbody>\n",
       "</table>\n",
       "</div>"
      ],
      "text/plain": [
       "   year    month language     movie_name  genre   result  imdb_rating\n",
       "0  2021  january  Kannada     Rajatantra  drama  average          NaN\n",
       "1  2021  january  Kannada  Amruthavahini  drama     flop          NaN\n",
       "2  2021  january  Kannada    Mahishasura  drama  average          8.6\n",
       "3  2021  january  Kannada          Vikky  drama     flop          NaN\n",
       "4  2021  january  Kannada   kathle kaadu  drama     flop          NaN"
      ]
     },
     "execution_count": 170,
     "metadata": {},
     "output_type": "execute_result"
    }
   ],
   "source": [
    "df_data = pd.read_csv(\"C:/Users/Admin/Desktop/imdb3.csv\",engine ='python',encoding = \"ISO-8859-1\")\n",
    "df_data.head(5)"
   ]
  },
  {
   "cell_type": "code",
   "execution_count": 171,
   "id": "22990b17",
   "metadata": {},
   "outputs": [
    {
     "data": {
      "text/html": [
       "<div>\n",
       "<style scoped>\n",
       "    .dataframe tbody tr th:only-of-type {\n",
       "        vertical-align: middle;\n",
       "    }\n",
       "\n",
       "    .dataframe tbody tr th {\n",
       "        vertical-align: top;\n",
       "    }\n",
       "\n",
       "    .dataframe thead th {\n",
       "        text-align: right;\n",
       "    }\n",
       "</style>\n",
       "<table border=\"1\" class=\"dataframe\">\n",
       "  <thead>\n",
       "    <tr style=\"text-align: right;\">\n",
       "      <th></th>\n",
       "      <th>year</th>\n",
       "      <th>month</th>\n",
       "      <th>language</th>\n",
       "      <th>movie_name</th>\n",
       "      <th>genre</th>\n",
       "      <th>result</th>\n",
       "      <th>imdb_rating</th>\n",
       "    </tr>\n",
       "  </thead>\n",
       "  <tbody>\n",
       "    <tr>\n",
       "      <th>643</th>\n",
       "      <td>2021</td>\n",
       "      <td>december</td>\n",
       "      <td>Hindi</td>\n",
       "      <td>420 IPC</td>\n",
       "      <td>crime</td>\n",
       "      <td>flop</td>\n",
       "      <td>6.5</td>\n",
       "    </tr>\n",
       "    <tr>\n",
       "      <th>644</th>\n",
       "      <td>2021</td>\n",
       "      <td>december</td>\n",
       "      <td>Hindi</td>\n",
       "      <td>83</td>\n",
       "      <td>biography</td>\n",
       "      <td>Blockbuster</td>\n",
       "      <td>7.5</td>\n",
       "    </tr>\n",
       "    <tr>\n",
       "      <th>645</th>\n",
       "      <td>2021</td>\n",
       "      <td>december</td>\n",
       "      <td>Hindi</td>\n",
       "      <td>Atrangi Re</td>\n",
       "      <td>comedy</td>\n",
       "      <td>average</td>\n",
       "      <td>6.5</td>\n",
       "    </tr>\n",
       "    <tr>\n",
       "      <th>646</th>\n",
       "      <td>2021</td>\n",
       "      <td>december</td>\n",
       "      <td>Hindi</td>\n",
       "      <td>Murder at Teesri Manzil 302</td>\n",
       "      <td>thriller</td>\n",
       "      <td>flop</td>\n",
       "      <td>4.3</td>\n",
       "    </tr>\n",
       "    <tr>\n",
       "      <th>647</th>\n",
       "      <td>2021</td>\n",
       "      <td>december</td>\n",
       "      <td>Hindi</td>\n",
       "      <td>Waah Zindagi</td>\n",
       "      <td>drama</td>\n",
       "      <td>average</td>\n",
       "      <td>7.3</td>\n",
       "    </tr>\n",
       "  </tbody>\n",
       "</table>\n",
       "</div>"
      ],
      "text/plain": [
       "     year     month language                   movie_name      genre  \\\n",
       "643  2021  december    Hindi                      420 IPC      crime   \n",
       "644  2021  december    Hindi                           83  biography   \n",
       "645  2021  december    Hindi                   Atrangi Re     comedy   \n",
       "646  2021  december    Hindi  Murder at Teesri Manzil 302   thriller   \n",
       "647  2021  december    Hindi                 Waah Zindagi      drama   \n",
       "\n",
       "          result  imdb_rating  \n",
       "643         flop          6.5  \n",
       "644  Blockbuster          7.5  \n",
       "645      average          6.5  \n",
       "646         flop          4.3  \n",
       "647      average          7.3  "
      ]
     },
     "execution_count": 171,
     "metadata": {},
     "output_type": "execute_result"
    }
   ],
   "source": [
    "df_data.tail()"
   ]
  },
  {
   "cell_type": "markdown",
   "id": "1c830cb9",
   "metadata": {},
   "source": [
    "# Checking the Dimensions of Data"
   ]
  },
  {
   "cell_type": "code",
   "execution_count": 172,
   "id": "47267648",
   "metadata": {},
   "outputs": [
    {
     "data": {
      "text/plain": [
       "(648, 7)"
      ]
     },
     "execution_count": 172,
     "metadata": {},
     "output_type": "execute_result"
    }
   ],
   "source": [
    "df_data.shape"
   ]
  },
  {
   "cell_type": "markdown",
   "id": "93f60c0c",
   "metadata": {},
   "source": [
    "<h5> the above dataset has 648 rows and 7 columns</h5>"
   ]
  },
  {
   "cell_type": "markdown",
   "id": "c0b80510",
   "metadata": {},
   "source": [
    "# Checking the Columns"
   ]
  },
  {
   "cell_type": "code",
   "execution_count": 173,
   "id": "a82ccee1",
   "metadata": {},
   "outputs": [
    {
     "data": {
      "text/plain": [
       "Index(['year', 'month', 'language', 'movie_name', 'genre', 'result',\n",
       "       'imdb_rating'],\n",
       "      dtype='object')"
      ]
     },
     "execution_count": 173,
     "metadata": {},
     "output_type": "execute_result"
    }
   ],
   "source": [
    "df_data.columns.unique()"
   ]
  },
  {
   "cell_type": "markdown",
   "id": "c915f577",
   "metadata": {},
   "source": [
    "# Checking different language films"
   ]
  },
  {
   "cell_type": "code",
   "execution_count": 174,
   "id": "e0bbd6c3",
   "metadata": {},
   "outputs": [
    {
     "data": {
      "text/plain": [
       "array(['Kannada', 'Telugu', 'Tamil', 'Malayalam', 'Hindi'], dtype=object)"
      ]
     },
     "execution_count": 174,
     "metadata": {},
     "output_type": "execute_result"
    }
   ],
   "source": [
    "df_data.language.unique()"
   ]
  },
  {
   "cell_type": "code",
   "execution_count": null,
   "id": "a7de72af",
   "metadata": {},
   "outputs": [],
   "source": [
    "#  The above dataset has 5 different language movies data"
   ]
  },
  {
   "cell_type": "markdown",
   "id": "79265109",
   "metadata": {},
   "source": [
    "# Checking different Genre"
   ]
  },
  {
   "cell_type": "code",
   "execution_count": 175,
   "id": "6308d8f4",
   "metadata": {},
   "outputs": [
    {
     "data": {
      "text/plain": [
       "array(['drama', 'comedy', 'action', 'crime', 'thriller', 'horror',\n",
       "       'romance', 'sports', 'history', 'family', 'biography'],\n",
       "      dtype=object)"
      ]
     },
     "execution_count": 175,
     "metadata": {},
     "output_type": "execute_result"
    }
   ],
   "source": [
    "df_data.genre.unique()"
   ]
  },
  {
   "cell_type": "code",
   "execution_count": 55,
   "id": "4bc79eae",
   "metadata": {},
   "outputs": [],
   "source": [
    "# The above dataset has 11 different genre movies"
   ]
  },
  {
   "cell_type": "markdown",
   "id": "cfdd9f47",
   "metadata": {},
   "source": [
    "# Checking Total movies in each languages "
   ]
  },
  {
   "cell_type": "code",
   "execution_count": 176,
   "id": "79a270b7",
   "metadata": {},
   "outputs": [
    {
     "data": {
      "text/plain": [
       "Tamil        185\n",
       "Malayalam    155\n",
       "Telugu       113\n",
       "Hindi        101\n",
       "Kannada       94\n",
       "Name: language, dtype: int64"
      ]
     },
     "execution_count": 176,
     "metadata": {},
     "output_type": "execute_result"
    }
   ],
   "source": [
    "df_data.language.value_counts()"
   ]
  },
  {
   "cell_type": "markdown",
   "id": "02485cbe",
   "metadata": {},
   "source": [
    "# Checking Total movies in each Genre"
   ]
  },
  {
   "cell_type": "code",
   "execution_count": 218,
   "id": "82069fcd",
   "metadata": {},
   "outputs": [
    {
     "data": {
      "text/plain": [
       "drama        205\n",
       "thriller      90\n",
       "action        79\n",
       "comedy        78\n",
       "romance       63\n",
       "crime         56\n",
       "horror        39\n",
       "family        16\n",
       "sports        12\n",
       "biography      9\n",
       "history        1\n",
       "Name: genre, dtype: int64"
      ]
     },
     "execution_count": 218,
     "metadata": {},
     "output_type": "execute_result"
    }
   ],
   "source": [
    "df_data.genre.value_counts()"
   ]
  },
  {
   "cell_type": "markdown",
   "id": "2a93c514",
   "metadata": {},
   "source": [
    "# Checking Total number of null values"
   ]
  },
  {
   "cell_type": "code",
   "execution_count": 177,
   "id": "519fa21e",
   "metadata": {},
   "outputs": [
    {
     "data": {
      "text/plain": [
       "year             0\n",
       "month            0\n",
       "language         0\n",
       "movie_name       0\n",
       "genre            0\n",
       "result           0\n",
       "imdb_rating    143\n",
       "dtype: int64"
      ]
     },
     "execution_count": 177,
     "metadata": {},
     "output_type": "execute_result"
    }
   ],
   "source": [
    "df_data.isnull().sum()"
   ]
  },
  {
   "cell_type": "code",
   "execution_count": 91,
   "id": "33d41f5b",
   "metadata": {},
   "outputs": [],
   "source": [
    "# There are total of 143 null values in imdb_rating column"
   ]
  },
  {
   "cell_type": "markdown",
   "id": "c0921de7",
   "metadata": {},
   "source": [
    "# Data cleaning "
   ]
  },
  {
   "cell_type": "code",
   "execution_count": 92,
   "id": "2e8c49d4",
   "metadata": {},
   "outputs": [],
   "source": [
    "# Filling the null values"
   ]
  },
  {
   "cell_type": "code",
   "execution_count": 178,
   "id": "d7b32c40",
   "metadata": {},
   "outputs": [],
   "source": [
    "df_data['imdb_rating'].fillna(0,inplace=True)"
   ]
  },
  {
   "cell_type": "code",
   "execution_count": 179,
   "id": "e232928f",
   "metadata": {},
   "outputs": [
    {
     "data": {
      "text/html": [
       "<div>\n",
       "<style scoped>\n",
       "    .dataframe tbody tr th:only-of-type {\n",
       "        vertical-align: middle;\n",
       "    }\n",
       "\n",
       "    .dataframe tbody tr th {\n",
       "        vertical-align: top;\n",
       "    }\n",
       "\n",
       "    .dataframe thead th {\n",
       "        text-align: right;\n",
       "    }\n",
       "</style>\n",
       "<table border=\"1\" class=\"dataframe\">\n",
       "  <thead>\n",
       "    <tr style=\"text-align: right;\">\n",
       "      <th></th>\n",
       "      <th>year</th>\n",
       "      <th>month</th>\n",
       "      <th>language</th>\n",
       "      <th>movie_name</th>\n",
       "      <th>genre</th>\n",
       "      <th>result</th>\n",
       "      <th>imdb_rating</th>\n",
       "    </tr>\n",
       "  </thead>\n",
       "  <tbody>\n",
       "    <tr>\n",
       "      <th>0</th>\n",
       "      <td>2021</td>\n",
       "      <td>january</td>\n",
       "      <td>Kannada</td>\n",
       "      <td>Rajatantra</td>\n",
       "      <td>drama</td>\n",
       "      <td>average</td>\n",
       "      <td>0.0</td>\n",
       "    </tr>\n",
       "    <tr>\n",
       "      <th>1</th>\n",
       "      <td>2021</td>\n",
       "      <td>january</td>\n",
       "      <td>Kannada</td>\n",
       "      <td>Amruthavahini</td>\n",
       "      <td>drama</td>\n",
       "      <td>flop</td>\n",
       "      <td>0.0</td>\n",
       "    </tr>\n",
       "    <tr>\n",
       "      <th>2</th>\n",
       "      <td>2021</td>\n",
       "      <td>january</td>\n",
       "      <td>Kannada</td>\n",
       "      <td>Mahishasura</td>\n",
       "      <td>drama</td>\n",
       "      <td>average</td>\n",
       "      <td>8.6</td>\n",
       "    </tr>\n",
       "    <tr>\n",
       "      <th>3</th>\n",
       "      <td>2021</td>\n",
       "      <td>january</td>\n",
       "      <td>Kannada</td>\n",
       "      <td>Vikky</td>\n",
       "      <td>drama</td>\n",
       "      <td>flop</td>\n",
       "      <td>0.0</td>\n",
       "    </tr>\n",
       "    <tr>\n",
       "      <th>4</th>\n",
       "      <td>2021</td>\n",
       "      <td>january</td>\n",
       "      <td>Kannada</td>\n",
       "      <td>kathle kaadu</td>\n",
       "      <td>drama</td>\n",
       "      <td>flop</td>\n",
       "      <td>0.0</td>\n",
       "    </tr>\n",
       "  </tbody>\n",
       "</table>\n",
       "</div>"
      ],
      "text/plain": [
       "   year    month language     movie_name  genre   result  imdb_rating\n",
       "0  2021  january  Kannada     Rajatantra  drama  average          0.0\n",
       "1  2021  january  Kannada  Amruthavahini  drama     flop          0.0\n",
       "2  2021  january  Kannada    Mahishasura  drama  average          8.6\n",
       "3  2021  january  Kannada          Vikky  drama     flop          0.0\n",
       "4  2021  january  Kannada   kathle kaadu  drama     flop          0.0"
      ]
     },
     "execution_count": 179,
     "metadata": {},
     "output_type": "execute_result"
    }
   ],
   "source": [
    "df_data.head()"
   ]
  },
  {
   "cell_type": "markdown",
   "id": "e2f7bc03",
   "metadata": {},
   "source": [
    "# Number of unique values in each column"
   ]
  },
  {
   "cell_type": "code",
   "execution_count": 180,
   "id": "cbde7e86",
   "metadata": {},
   "outputs": [
    {
     "data": {
      "text/plain": [
       "year             1\n",
       "month           12\n",
       "language         5\n",
       "movie_name     646\n",
       "genre           11\n",
       "result           4\n",
       "imdb_rating     71\n",
       "dtype: int64"
      ]
     },
     "execution_count": 180,
     "metadata": {},
     "output_type": "execute_result"
    }
   ],
   "source": [
    "df_data.nunique()"
   ]
  },
  {
   "cell_type": "markdown",
   "id": "34d838a3",
   "metadata": {},
   "source": [
    "# Data types in the dataset"
   ]
  },
  {
   "cell_type": "code",
   "execution_count": 181,
   "id": "67ea3147",
   "metadata": {},
   "outputs": [
    {
     "data": {
      "text/plain": [
       "year             int64\n",
       "month           object\n",
       "language        object\n",
       "movie_name      object\n",
       "genre           object\n",
       "result          object\n",
       "imdb_rating    float64\n",
       "dtype: object"
      ]
     },
     "execution_count": 181,
     "metadata": {},
     "output_type": "execute_result"
    }
   ],
   "source": [
    "df_data.dtypes"
   ]
  },
  {
   "cell_type": "markdown",
   "id": "fd5e9c7d",
   "metadata": {},
   "source": [
    "# Checking different result"
   ]
  },
  {
   "cell_type": "code",
   "execution_count": 182,
   "id": "8c87b3ac",
   "metadata": {},
   "outputs": [
    {
     "data": {
      "text/plain": [
       "array(['average', 'flop', 'hit', 'Blockbuster'], dtype=object)"
      ]
     },
     "execution_count": 182,
     "metadata": {},
     "output_type": "execute_result"
    }
   ],
   "source": [
    "df_data.result.unique()"
   ]
  },
  {
   "cell_type": "markdown",
   "id": "f3a16f72",
   "metadata": {},
   "source": [
    "# Summary of Data"
   ]
  },
  {
   "cell_type": "code",
   "execution_count": 183,
   "id": "1c712953",
   "metadata": {},
   "outputs": [
    {
     "name": "stdout",
     "output_type": "stream",
     "text": [
      "<class 'pandas.core.frame.DataFrame'>\n",
      "RangeIndex: 648 entries, 0 to 647\n",
      "Data columns (total 7 columns):\n",
      " #   Column       Non-Null Count  Dtype  \n",
      "---  ------       --------------  -----  \n",
      " 0   year         648 non-null    int64  \n",
      " 1   month        648 non-null    object \n",
      " 2   language     648 non-null    object \n",
      " 3   movie_name   648 non-null    object \n",
      " 4   genre        648 non-null    object \n",
      " 5   result       648 non-null    object \n",
      " 6   imdb_rating  648 non-null    float64\n",
      "dtypes: float64(1), int64(1), object(5)\n",
      "memory usage: 35.6+ KB\n"
     ]
    }
   ],
   "source": [
    "df_data.info()"
   ]
  },
  {
   "cell_type": "code",
   "execution_count": 184,
   "id": "281defac",
   "metadata": {},
   "outputs": [
    {
     "data": {
      "text/plain": [
       "0      2021\n",
       "1      2021\n",
       "2      2021\n",
       "3      2021\n",
       "4      2021\n",
       "       ... \n",
       "643    2021\n",
       "644    2021\n",
       "645    2021\n",
       "646    2021\n",
       "647    2021\n",
       "Name: year, Length: 648, dtype: object"
      ]
     },
     "execution_count": 184,
     "metadata": {},
     "output_type": "execute_result"
    }
   ],
   "source": [
    "df_data.year.astype(str)\n"
   ]
  },
  {
   "cell_type": "markdown",
   "id": "7ff6a8f2",
   "metadata": {},
   "source": [
    "# Statistical summary of Data"
   ]
  },
  {
   "cell_type": "code",
   "execution_count": 187,
   "id": "16e32613",
   "metadata": {},
   "outputs": [
    {
     "data": {
      "text/html": [
       "<div>\n",
       "<style scoped>\n",
       "    .dataframe tbody tr th:only-of-type {\n",
       "        vertical-align: middle;\n",
       "    }\n",
       "\n",
       "    .dataframe tbody tr th {\n",
       "        vertical-align: top;\n",
       "    }\n",
       "\n",
       "    .dataframe thead th {\n",
       "        text-align: right;\n",
       "    }\n",
       "</style>\n",
       "<table border=\"1\" class=\"dataframe\">\n",
       "  <thead>\n",
       "    <tr style=\"text-align: right;\">\n",
       "      <th></th>\n",
       "      <th>imdb_rating</th>\n",
       "    </tr>\n",
       "  </thead>\n",
       "  <tbody>\n",
       "    <tr>\n",
       "      <th>count</th>\n",
       "      <td>648.000000</td>\n",
       "    </tr>\n",
       "    <tr>\n",
       "      <th>mean</th>\n",
       "      <td>5.014352</td>\n",
       "    </tr>\n",
       "    <tr>\n",
       "      <th>std</th>\n",
       "      <td>2.969848</td>\n",
       "    </tr>\n",
       "    <tr>\n",
       "      <th>min</th>\n",
       "      <td>0.000000</td>\n",
       "    </tr>\n",
       "    <tr>\n",
       "      <th>25%</th>\n",
       "      <td>3.675000</td>\n",
       "    </tr>\n",
       "    <tr>\n",
       "      <th>50%</th>\n",
       "      <td>5.900000</td>\n",
       "    </tr>\n",
       "    <tr>\n",
       "      <th>75%</th>\n",
       "      <td>7.200000</td>\n",
       "    </tr>\n",
       "    <tr>\n",
       "      <th>max</th>\n",
       "      <td>9.600000</td>\n",
       "    </tr>\n",
       "  </tbody>\n",
       "</table>\n",
       "</div>"
      ],
      "text/plain": [
       "       imdb_rating\n",
       "count   648.000000\n",
       "mean      5.014352\n",
       "std       2.969848\n",
       "min       0.000000\n",
       "25%       3.675000\n",
       "50%       5.900000\n",
       "75%       7.200000\n",
       "max       9.600000"
      ]
     },
     "execution_count": 187,
     "metadata": {},
     "output_type": "execute_result"
    }
   ],
   "source": [
    "df_data.describe().drop('year',axis=1)"
   ]
  },
  {
   "cell_type": "markdown",
   "id": "c97e13ec",
   "metadata": {},
   "source": [
    "# Number of duplictate values"
   ]
  },
  {
   "cell_type": "code",
   "execution_count": 158,
   "id": "72d90a82",
   "metadata": {},
   "outputs": [
    {
     "data": {
      "text/plain": [
       "0"
      ]
     },
     "execution_count": 158,
     "metadata": {},
     "output_type": "execute_result"
    }
   ],
   "source": [
    "df_data.duplicated().sum()"
   ]
  },
  {
   "cell_type": "code",
   "execution_count": null,
   "id": "2148640b",
   "metadata": {},
   "outputs": [],
   "source": [
    "#There is no duplicted value in this dataset"
   ]
  },
  {
   "cell_type": "markdown",
   "id": "6dd7c879",
   "metadata": {},
   "source": [
    "# Corelation between columns"
   ]
  },
  {
   "cell_type": "code",
   "execution_count": 188,
   "id": "b0ba3c69",
   "metadata": {},
   "outputs": [
    {
     "data": {
      "text/html": [
       "<div>\n",
       "<style scoped>\n",
       "    .dataframe tbody tr th:only-of-type {\n",
       "        vertical-align: middle;\n",
       "    }\n",
       "\n",
       "    .dataframe tbody tr th {\n",
       "        vertical-align: top;\n",
       "    }\n",
       "\n",
       "    .dataframe thead th {\n",
       "        text-align: right;\n",
       "    }\n",
       "</style>\n",
       "<table border=\"1\" class=\"dataframe\">\n",
       "  <thead>\n",
       "    <tr style=\"text-align: right;\">\n",
       "      <th></th>\n",
       "      <th>year</th>\n",
       "      <th>imdb_rating</th>\n",
       "    </tr>\n",
       "  </thead>\n",
       "  <tbody>\n",
       "    <tr>\n",
       "      <th>year</th>\n",
       "      <td>NaN</td>\n",
       "      <td>NaN</td>\n",
       "    </tr>\n",
       "    <tr>\n",
       "      <th>imdb_rating</th>\n",
       "      <td>NaN</td>\n",
       "      <td>1.0</td>\n",
       "    </tr>\n",
       "  </tbody>\n",
       "</table>\n",
       "</div>"
      ],
      "text/plain": [
       "             year  imdb_rating\n",
       "year          NaN          NaN\n",
       "imdb_rating   NaN          1.0"
      ]
     },
     "execution_count": 188,
     "metadata": {},
     "output_type": "execute_result"
    }
   ],
   "source": [
    "df_data.corr()"
   ]
  },
  {
   "cell_type": "markdown",
   "id": "1a89c772",
   "metadata": {},
   "source": [
    "# Covariance between columns"
   ]
  },
  {
   "cell_type": "code",
   "execution_count": 189,
   "id": "ddcd60c2",
   "metadata": {},
   "outputs": [
    {
     "data": {
      "text/html": [
       "<div>\n",
       "<style scoped>\n",
       "    .dataframe tbody tr th:only-of-type {\n",
       "        vertical-align: middle;\n",
       "    }\n",
       "\n",
       "    .dataframe tbody tr th {\n",
       "        vertical-align: top;\n",
       "    }\n",
       "\n",
       "    .dataframe thead th {\n",
       "        text-align: right;\n",
       "    }\n",
       "</style>\n",
       "<table border=\"1\" class=\"dataframe\">\n",
       "  <thead>\n",
       "    <tr style=\"text-align: right;\">\n",
       "      <th></th>\n",
       "      <th>year</th>\n",
       "      <th>imdb_rating</th>\n",
       "    </tr>\n",
       "  </thead>\n",
       "  <tbody>\n",
       "    <tr>\n",
       "      <th>year</th>\n",
       "      <td>0.0</td>\n",
       "      <td>0.000000</td>\n",
       "    </tr>\n",
       "    <tr>\n",
       "      <th>imdb_rating</th>\n",
       "      <td>0.0</td>\n",
       "      <td>8.819995</td>\n",
       "    </tr>\n",
       "  </tbody>\n",
       "</table>\n",
       "</div>"
      ],
      "text/plain": [
       "             year  imdb_rating\n",
       "year          0.0     0.000000\n",
       "imdb_rating   0.0     8.819995"
      ]
     },
     "execution_count": 189,
     "metadata": {},
     "output_type": "execute_result"
    }
   ],
   "source": [
    "df_data.cov()"
   ]
  },
  {
   "cell_type": "markdown",
   "id": "718c0a91",
   "metadata": {},
   "source": [
    "# Slicing of data"
   ]
  },
  {
   "cell_type": "code",
   "execution_count": 194,
   "id": "2305402c",
   "metadata": {},
   "outputs": [
    {
     "data": {
      "text/plain": [
       "year                 2021\n",
       "month             january\n",
       "language          Kannada\n",
       "movie_name     Rajatantra\n",
       "genre               drama\n",
       "result            average\n",
       "imdb_rating           0.0\n",
       "Name: 0, dtype: object"
      ]
     },
     "execution_count": 194,
     "metadata": {},
     "output_type": "execute_result"
    }
   ],
   "source": [
    "df_data.iloc[0]"
   ]
  },
  {
   "cell_type": "markdown",
   "id": "736c0131",
   "metadata": {},
   "source": [
    "# Count of Movies based on result by each language"
   ]
  },
  {
   "cell_type": "code",
   "execution_count": 239,
   "id": "de5611cc",
   "metadata": {},
   "outputs": [
    {
     "name": "stdout",
     "output_type": "stream",
     "text": [
      "                       counts\n",
      "language  result             \n",
      "Hindi     flop             52\n",
      "          average          30\n",
      "          hit              15\n",
      "          Blockbuster       4\n",
      "Kannada   flop             44\n",
      "          average          34\n",
      "          hit              12\n",
      "          Blockbuster       4\n",
      "Malayalam flop             82\n",
      "          average          47\n",
      "          hit              22\n",
      "          Blockbuster       4\n",
      "Tamil     flop             98\n",
      "          average          62\n",
      "          hit              18\n",
      "          Blockbuster       7\n",
      "Telugu    average          53\n",
      "          flop             43\n",
      "          hit               9\n",
      "          Blockbuster       8\n"
     ]
    }
   ],
   "source": [
    "print(df_data.groupby('language')['result'].value_counts().to_frame('counts'))"
   ]
  },
  {
   "cell_type": "markdown",
   "id": "0d037cd5",
   "metadata": {},
   "source": [
    "# Count of Movies based on result by each genre"
   ]
  },
  {
   "cell_type": "code",
   "execution_count": 240,
   "id": "c8b6ccaa",
   "metadata": {},
   "outputs": [
    {
     "name": "stdout",
     "output_type": "stream",
     "text": [
      "                       counts\n",
      "genre     result             \n",
      "action    average          29\n",
      "          flop             29\n",
      "          Blockbuster      11\n",
      "          hit              10\n",
      "biography flop              5\n",
      "          Blockbuster       2\n",
      "          average           1\n",
      "          hit               1\n",
      "comedy    average          38\n",
      "          flop             26\n",
      "          hit              13\n",
      "          Blockbuster       1\n",
      "crime     average          22\n",
      "          flop             19\n",
      "          hit               9\n",
      "          Blockbuster       6\n",
      "drama     flop            129\n",
      "          average          60\n",
      "          hit              16\n",
      "family    flop             10\n",
      "          average           4\n",
      "          hit               2\n",
      "history   flop              1\n",
      "horror    flop             23\n",
      "          average          12\n",
      "          hit               4\n",
      "romance   flop             35\n",
      "          average          20\n",
      "          hit               5\n",
      "          Blockbuster       3\n",
      "sports    flop              5\n",
      "          average           3\n",
      "          hit               3\n",
      "          Blockbuster       1\n",
      "thriller  average          37\n",
      "          flop             37\n",
      "          hit              13\n",
      "          Blockbuster       3\n"
     ]
    }
   ],
   "source": [
    "print(df_data.groupby('genre')['result'].value_counts().to_frame('counts'))"
   ]
  },
  {
   "cell_type": "markdown",
   "id": "eda9d63a",
   "metadata": {},
   "source": [
    "# Monthly Count of Movies  by each language"
   ]
  },
  {
   "cell_type": "code",
   "execution_count": 241,
   "id": "19003657",
   "metadata": {},
   "outputs": [
    {
     "name": "stdout",
     "output_type": "stream",
     "text": [
      "                     counts\n",
      "month     language         \n",
      "april     Malayalam      18\n",
      "          Tamil          13\n",
      "          Hindi           9\n",
      "          Kannada         4\n",
      "          Telugu          4\n",
      "august    Telugu         12\n",
      "          Malayalam      11\n",
      "          Hindi           7\n",
      "          Kannada         5\n",
      "          Tamil           5\n",
      "december  Tamil          37\n",
      "          Malayalam      24\n",
      "          Hindi          10\n",
      "          Telugu         10\n",
      "          Kannada         9\n",
      "february  Tamil          25\n",
      "          Kannada        17\n",
      "          Malayalam      13\n",
      "          Telugu         13\n",
      "          Hindi           6\n",
      "january   Tamil          16\n",
      "          Telugu         14\n",
      "          Hindi          12\n",
      "          Kannada        10\n",
      "          Malayalam       8\n",
      "july      Malayalam      14\n",
      "          Hindi           7\n",
      "          Tamil           4\n",
      "          Telugu          3\n",
      "          Kannada         1\n",
      "june      Malayalam      11\n",
      "          Hindi           3\n",
      "          Tamil           3\n",
      "          Telugu          2\n",
      "march     Tamil          22\n",
      "          Malayalam      19\n",
      "          Telugu         16\n",
      "          Hindi          13\n",
      "          Kannada        11\n",
      "may       Malayalam       9\n",
      "          Hindi           5\n",
      "          Telugu          4\n",
      "          Tamil           1\n",
      "november  Kannada        18\n",
      "          Tamil          17\n",
      "          Malayalam      14\n",
      "          Hindi          10\n",
      "          Telugu          7\n",
      "october   Tamil          23\n",
      "          Telugu         14\n",
      "          Kannada        12\n",
      "          Hindi          11\n",
      "          Malayalam       9\n",
      "september Tamil          19\n",
      "          Telugu         14\n",
      "          Hindi           8\n",
      "          Kannada         7\n",
      "          Malayalam       5\n"
     ]
    }
   ],
   "source": [
    "print(df_data.groupby('month')['language'].value_counts().to_frame('counts'))"
   ]
  },
  {
   "cell_type": "markdown",
   "id": "6ee8f504",
   "metadata": {},
   "source": [
    "# Visualization of data\n"
   ]
  },
  {
   "cell_type": "markdown",
   "id": "ac00d091",
   "metadata": {},
   "source": [
    "# Pie Plot for Total movies in each languages"
   ]
  },
  {
   "cell_type": "code",
   "execution_count": 276,
   "id": "f6d5c3d8",
   "metadata": {},
   "outputs": [
    {
     "data": {
      "image/png": "[encoded data removed]",
      "text/plain": [
       "<Figure size 864x720 with 1 Axes>"
      ]
     },
     "metadata": {},
     "output_type": "display_data"
    }
   ],
   "source": [
    "plt.figure(figsize=(12,10))\n",
    "df_data[\"language\"].value_counts().plot.pie(subplots=\"True\",autopct =\"%1.1f%%\")\n",
    "plt.title(\"Count plot of total movies in each language\",color='blue')\n",
    "plt.show()"
   ]
  },
  {
   "cell_type": "markdown",
   "id": "e2daead4",
   "metadata": {},
   "source": [
    "# Count plot of Genre"
   ]
  },
  {
   "cell_type": "code",
   "execution_count": 244,
   "id": "78614147",
   "metadata": {},
   "outputs": [
    {
     "name": "stdout",
     "output_type": "stream",
     "text": [
      "drama        205\n",
      "thriller      90\n",
      "action        79\n",
      "comedy        78\n",
      "romance       63\n",
      "crime         56\n",
      "horror        39\n",
      "family        16\n",
      "sports        12\n",
      "biography      9\n",
      "history        1\n",
      "Name: genre, dtype: int64\n"
     ]
    },
    {
     "data": {
      "image/png": "[encoded data removed]",
      "text/plain": [
       "<Figure size 720x504 with 1 Axes>"
      ]
     },
     "metadata": {
      "needs_background": "light"
     },
     "output_type": "display_data"
    }
   ],
   "source": [
    "print(df_data[\"genre\"].value_counts())\n",
    "plt.figure(figsize=(10,7))\n",
    "plt.title(\"Count plot of Genre\",color='blue')\n",
    "sn.countplot(x =df_data[\"genre\"])\n",
    "plt.xticks(rotation= 90)\n",
    "plt.show()"
   ]
  },
  {
   "cell_type": "markdown",
   "id": "2c9c39c0",
   "metadata": {},
   "source": [
    "# Count plot of Movies by Month"
   ]
  },
  {
   "cell_type": "code",
   "execution_count": 245,
   "id": "2a08de91",
   "metadata": {},
   "outputs": [
    {
     "name": "stdout",
     "output_type": "stream",
     "text": [
      "december     90\n",
      "march        81\n",
      "february     74\n",
      "october      69\n",
      "november     66\n",
      "january      60\n",
      "september    53\n",
      "april        48\n",
      "august       40\n",
      "july         29\n",
      "may          19\n",
      "june         19\n",
      "Name: month, dtype: int64\n"
     ]
    },
    {
     "data": {
      "image/png": "[encoded data removed]",
      "text/plain": [
       "<Figure size 1080x576 with 1 Axes>"
      ]
     },
     "metadata": {
      "needs_background": "light"
     },
     "output_type": "display_data"
    }
   ],
   "source": [
    "print(df_data[\"month\"].value_counts())\n",
    "plt.figure(figsize=(15,8))\n",
    "plt.title(\"Count plot of movies by month\",color ='orange')\n",
    "sn.countplot(x =df_data[\"month\"])\n",
    "plt.xticks(rotation= 90)\n",
    "plt.show()"
   ]
  },
  {
   "cell_type": "markdown",
   "id": "3107d698",
   "metadata": {},
   "source": [
    "# Movie count based on result"
   ]
  },
  {
   "cell_type": "code",
   "execution_count": 250,
   "id": "184b1681",
   "metadata": {},
   "outputs": [
    {
     "name": "stdout",
     "output_type": "stream",
     "text": [
      "flop           319\n",
      "average        226\n",
      "hit             76\n",
      "Blockbuster     27\n",
      "Name: result, dtype: int64\n"
     ]
    },
    {
     "data": {
      "image/png": "[encoded data removed]",
      "text/plain": [
       "<Figure size 1080x576 with 1 Axes>"
      ]
     },
     "metadata": {
      "needs_background": "light"
     },
     "output_type": "display_data"
    }
   ],
   "source": [
    "print(df_data[\"result\"].value_counts())\n",
    "plt.figure(figsize=(15,8))\n",
    "plt.title(\"Count plot result\",color ='orange')\n",
    "sn.countplot(x =df_data[\"result\"])\n",
    "plt.xticks(rotation= 90)\n",
    "plt.show()"
   ]
  },
  {
   "cell_type": "markdown",
   "id": "8ccf3ebc",
   "metadata": {},
   "source": [
    "# Average IMDB rating for each genre"
   ]
  },
  {
   "cell_type": "code",
   "execution_count": 253,
   "id": "8b6fefde",
   "metadata": {},
   "outputs": [
    {
     "name": "stdout",
     "output_type": "stream",
     "text": [
      "genre\n",
      "action       5.213924\n",
      "biography    6.600000\n",
      "comedy       6.221795\n",
      "crime        5.826786\n",
      "drama        3.836098\n",
      "family       4.256250\n",
      "history      7.800000\n",
      "horror       5.261538\n",
      "romance      5.088889\n",
      "sports       5.708333\n",
      "thriller     5.664444\n",
      "Name: imdb_rating, dtype: float64\n"
     ]
    },
    {
     "data": {
      "image/png": "[encoded data removed]",
      "text/plain": [
       "<Figure size 432x288 with 1 Axes>"
      ]
     },
     "metadata": {
      "needs_background": "light"
     },
     "output_type": "display_data"
    },
    {
     "data": {
      "text/plain": [
       "<Figure size 720x504 with 0 Axes>"
      ]
     },
     "metadata": {},
     "output_type": "display_data"
    }
   ],
   "source": [
    "print(df_data.groupby('genre')['imdb_rating'].mean())\n",
    "df_data.groupby('genre')['imdb_rating'].mean().plot.bar(color = 'green')\n",
    "plt.title(\"Average IMDB rating by Genre\",color='orange')\n",
    "plt.figure(figsize=(10,7))\n",
    "plt.show()"
   ]
  },
  {
   "cell_type": "markdown",
   "id": "7418897f",
   "metadata": {},
   "source": [
    "# Average IMDB rating based on result"
   ]
  },
  {
   "cell_type": "code",
   "execution_count": 254,
   "id": "a074f352",
   "metadata": {},
   "outputs": [
    {
     "name": "stdout",
     "output_type": "stream",
     "text": [
      "result\n",
      "Blockbuster    7.162963\n",
      "average        6.542920\n",
      "flop           3.245768\n",
      "hit            7.128947\n",
      "Name: imdb_rating, dtype: float64\n"
     ]
    },
    {
     "data": {
      "image/png": "[encoded data removed]",
      "text/plain": [
       "<Figure size 432x288 with 1 Axes>"
      ]
     },
     "metadata": {
      "needs_background": "light"
     },
     "output_type": "display_data"
    },
    {
     "data": {
      "text/plain": [
       "<Figure size 720x504 with 0 Axes>"
      ]
     },
     "metadata": {},
     "output_type": "display_data"
    }
   ],
   "source": [
    "print(df_data.groupby('result')['imdb_rating'].mean())\n",
    "df_data.groupby('result')['imdb_rating'].mean().plot.bar(color = 'orange')\n",
    "plt.title(\"Average IMDB rating by Result\",color='blue')\n",
    "plt.figure(figsize=(10,7))\n",
    "plt.show()"
   ]
  },
  {
   "cell_type": "markdown",
   "id": "cee8b995",
   "metadata": {},
   "source": [
    "# Histogram of Data"
   ]
  },
  {
   "cell_type": "code",
   "execution_count": 257,
   "id": "764d0e1b",
   "metadata": {},
   "outputs": [
    {
     "data": {
      "image/png": "[encoded data removed]",
      "text/plain": [
       "<Figure size 1440x864 with 2 Axes>"
      ]
     },
     "metadata": {
      "needs_background": "light"
     },
     "output_type": "display_data"
    }
   ],
   "source": [
    "df_data.hist(bins =50,figsize=(20,12))\n",
    "plt.show()"
   ]
  },
  {
   "cell_type": "code",
   "execution_count": 258,
   "id": "9a13b5c9",
   "metadata": {},
   "outputs": [
    {
     "data": {
      "text/plain": [
       "<seaborn.axisgrid.PairGrid at 0x186e2ff6b80>"
      ]
     },
     "execution_count": 258,
     "metadata": {},
     "output_type": "execute_result"
    },
    {
     "data": {
      "image/png": "[encoded data removed]",
      "text/plain": [
       "<Figure size 446.25x360 with 6 Axes>"
      ]
     },
     "metadata": {
      "needs_background": "light"
     },
     "output_type": "display_data"
    }
   ],
   "source": [
    "figsize=(10,7)\n",
    "sn.pairplot(df_data,hue=\"genre\")"
   ]
  },
  {
   "cell_type": "markdown",
   "id": "d2028ce8",
   "metadata": {},
   "source": [
    "# Highest IMDB ratings"
   ]
  },
  {
   "cell_type": "code",
   "execution_count": 267,
   "id": "c73951f0",
   "metadata": {},
   "outputs": [
    {
     "data": {
      "text/html": [
       "<div>\n",
       "<style scoped>\n",
       "    .dataframe tbody tr th:only-of-type {\n",
       "        vertical-align: middle;\n",
       "    }\n",
       "\n",
       "    .dataframe tbody tr th {\n",
       "        vertical-align: top;\n",
       "    }\n",
       "\n",
       "    .dataframe thead th {\n",
       "        text-align: right;\n",
       "    }\n",
       "</style>\n",
       "<table border=\"1\" class=\"dataframe\">\n",
       "  <thead>\n",
       "    <tr style=\"text-align: right;\">\n",
       "      <th></th>\n",
       "      <th>imdb_rating</th>\n",
       "    </tr>\n",
       "  </thead>\n",
       "  <tbody>\n",
       "    <tr>\n",
       "      <th>27</th>\n",
       "      <td>9.6</td>\n",
       "    </tr>\n",
       "    <tr>\n",
       "      <th>85</th>\n",
       "      <td>9.6</td>\n",
       "    </tr>\n",
       "    <tr>\n",
       "      <th>381</th>\n",
       "      <td>9.6</td>\n",
       "    </tr>\n",
       "    <tr>\n",
       "      <th>506</th>\n",
       "      <td>9.5</td>\n",
       "    </tr>\n",
       "    <tr>\n",
       "      <th>528</th>\n",
       "      <td>9.5</td>\n",
       "    </tr>\n",
       "  </tbody>\n",
       "</table>\n",
       "</div>"
      ],
      "text/plain": [
       "     imdb_rating\n",
       "27           9.6\n",
       "85           9.6\n",
       "381          9.6\n",
       "506          9.5\n",
       "528          9.5"
      ]
     },
     "execution_count": 267,
     "metadata": {},
     "output_type": "execute_result"
    }
   ],
   "source": [
    "df1 = pd.DataFrame(df_data.imdb_rating.nlargest())\n",
    "df1"
   ]
  },
  {
   "cell_type": "code",
   "execution_count": 268,
   "id": "c6cd55f1",
   "metadata": {},
   "outputs": [
    {
     "data": {
      "text/plain": [
       "<seaborn.axisgrid.PairGrid at 0x186e2fce430>"
      ]
     },
     "execution_count": 268,
     "metadata": {},
     "output_type": "execute_result"
    },
    {
     "data": {
      "image/png": "[encoded data removed]",
      "text/plain": [
       "<Figure size 360x360 with 6 Axes>"
      ]
     },
     "metadata": {
      "needs_background": "light"
     },
     "output_type": "display_data"
    }
   ],
   "source": [
    "sn.pairplot(df_data)"
   ]
  },
  {
   "cell_type": "markdown",
   "id": "ff9b6c4a",
   "metadata": {},
   "source": [
    "# Summarized Data"
   ]
  },
  {
   "cell_type": "code",
   "execution_count": 272,
   "id": "28e7ca56",
   "metadata": {},
   "outputs": [
    {
     "data": {
      "text/html": [
       "<div>\n",
       "<style scoped>\n",
       "    .dataframe tbody tr th:only-of-type {\n",
       "        vertical-align: middle;\n",
       "    }\n",
       "\n",
       "    .dataframe tbody tr th {\n",
       "        vertical-align: top;\n",
       "    }\n",
       "\n",
       "    .dataframe thead th {\n",
       "        text-align: right;\n",
       "    }\n",
       "</style>\n",
       "<table border=\"1\" class=\"dataframe\">\n",
       "  <thead>\n",
       "    <tr style=\"text-align: right;\">\n",
       "      <th></th>\n",
       "      <th>month</th>\n",
       "      <th>language</th>\n",
       "      <th>movie_name</th>\n",
       "      <th>genre</th>\n",
       "      <th>result</th>\n",
       "      <th>imdb_rating</th>\n",
       "    </tr>\n",
       "  </thead>\n",
       "  <tbody>\n",
       "    <tr>\n",
       "      <th>0</th>\n",
       "      <td>april</td>\n",
       "      <td>Hindi</td>\n",
       "      <td>99 Songs</td>\n",
       "      <td>romance</td>\n",
       "      <td>flop</td>\n",
       "      <td>6.3</td>\n",
       "    </tr>\n",
       "    <tr>\n",
       "      <th>1</th>\n",
       "      <td>april</td>\n",
       "      <td>Hindi</td>\n",
       "      <td>Aa Bhi Ja O Piya</td>\n",
       "      <td>family</td>\n",
       "      <td>flop</td>\n",
       "      <td>0.0</td>\n",
       "    </tr>\n",
       "    <tr>\n",
       "      <th>2</th>\n",
       "      <td>april</td>\n",
       "      <td>Hindi</td>\n",
       "      <td>Ajeeb Daastaan</td>\n",
       "      <td>romance</td>\n",
       "      <td>average</td>\n",
       "      <td>6.7</td>\n",
       "    </tr>\n",
       "    <tr>\n",
       "      <th>3</th>\n",
       "      <td>april</td>\n",
       "      <td>Hindi</td>\n",
       "      <td>Bansuri: The Flute</td>\n",
       "      <td>drama</td>\n",
       "      <td>flop</td>\n",
       "      <td>3.3</td>\n",
       "    </tr>\n",
       "    <tr>\n",
       "      <th>4</th>\n",
       "      <td>april</td>\n",
       "      <td>Hindi</td>\n",
       "      <td>Flight</td>\n",
       "      <td>thriller</td>\n",
       "      <td>flop</td>\n",
       "      <td>5.8</td>\n",
       "    </tr>\n",
       "    <tr>\n",
       "      <th>...</th>\n",
       "      <td>...</td>\n",
       "      <td>...</td>\n",
       "      <td>...</td>\n",
       "      <td>...</td>\n",
       "      <td>...</td>\n",
       "      <td>...</td>\n",
       "    </tr>\n",
       "    <tr>\n",
       "      <th>643</th>\n",
       "      <td>september</td>\n",
       "      <td>Telugu</td>\n",
       "      <td>Maro Prastanam</td>\n",
       "      <td>crime</td>\n",
       "      <td>average</td>\n",
       "      <td>8.1</td>\n",
       "    </tr>\n",
       "    <tr>\n",
       "      <th>644</th>\n",
       "      <td>september</td>\n",
       "      <td>Telugu</td>\n",
       "      <td>Net</td>\n",
       "      <td>thriller</td>\n",
       "      <td>average</td>\n",
       "      <td>5.6</td>\n",
       "    </tr>\n",
       "    <tr>\n",
       "      <th>645</th>\n",
       "      <td>september</td>\n",
       "      <td>Telugu</td>\n",
       "      <td>Nootokka Zillala Andagaadu</td>\n",
       "      <td>comedy</td>\n",
       "      <td>average</td>\n",
       "      <td>6.4</td>\n",
       "    </tr>\n",
       "    <tr>\n",
       "      <th>646</th>\n",
       "      <td>september</td>\n",
       "      <td>Telugu</td>\n",
       "      <td>Seetimaar</td>\n",
       "      <td>action</td>\n",
       "      <td>hit</td>\n",
       "      <td>5.1</td>\n",
       "    </tr>\n",
       "    <tr>\n",
       "      <th>647</th>\n",
       "      <td>september</td>\n",
       "      <td>Telugu</td>\n",
       "      <td>Tuck Jagadish</td>\n",
       "      <td>action</td>\n",
       "      <td>average</td>\n",
       "      <td>5.7</td>\n",
       "    </tr>\n",
       "  </tbody>\n",
       "</table>\n",
       "<p>648 rows × 6 columns</p>\n",
       "</div>"
      ],
      "text/plain": [
       "         month language                  movie_name     genre   result  \\\n",
       "0        april    Hindi                    99 Songs   romance     flop   \n",
       "1        april    Hindi            Aa Bhi Ja O Piya    family     flop   \n",
       "2        april    Hindi              Ajeeb Daastaan   romance  average   \n",
       "3        april    Hindi          Bansuri: The Flute     drama     flop   \n",
       "4        april    Hindi                     Flight   thriller     flop   \n",
       "..         ...      ...                         ...       ...      ...   \n",
       "643  september   Telugu              Maro Prastanam     crime  average   \n",
       "644  september   Telugu                         Net  thriller  average   \n",
       "645  september   Telugu  Nootokka Zillala Andagaadu    comedy  average   \n",
       "646  september   Telugu                   Seetimaar    action      hit   \n",
       "647  september   Telugu               Tuck Jagadish    action  average   \n",
       "\n",
       "     imdb_rating  \n",
       "0            6.3  \n",
       "1            0.0  \n",
       "2            6.7  \n",
       "3            3.3  \n",
       "4            5.8  \n",
       "..           ...  \n",
       "643          8.1  \n",
       "644          5.6  \n",
       "645          6.4  \n",
       "646          5.1  \n",
       "647          5.7  \n",
       "\n",
       "[648 rows x 6 columns]"
      ]
     },
     "execution_count": 272,
     "metadata": {},
     "output_type": "execute_result"
    }
   ],
   "source": [
    "df2 = pd.DataFrame(df_data.groupby(['month','language','movie_name','genre','result'])['imdb_rating'].sum().reset_index())\n",
    "df2"
   ]
  },
  {
   "cell_type": "markdown",
   "id": "c4b7696e",
   "metadata": {},
   "source": [
    "# Statistical summary"
   ]
  },
  {
   "cell_type": "code",
   "execution_count": 275,
   "id": "a16994e8",
   "metadata": {},
   "outputs": [
    {
     "data": {
      "text/html": [
       "<div>\n",
       "<style scoped>\n",
       "    .dataframe tbody tr th:only-of-type {\n",
       "        vertical-align: middle;\n",
       "    }\n",
       "\n",
       "    .dataframe tbody tr th {\n",
       "        vertical-align: top;\n",
       "    }\n",
       "\n",
       "    .dataframe thead th {\n",
       "        text-align: right;\n",
       "    }\n",
       "</style>\n",
       "<table border=\"1\" class=\"dataframe\">\n",
       "  <thead>\n",
       "    <tr style=\"text-align: right;\">\n",
       "      <th></th>\n",
       "      <th>mean</th>\n",
       "      <th>median</th>\n",
       "      <th>min</th>\n",
       "      <th>max</th>\n",
       "      <th>count</th>\n",
       "      <th>std</th>\n",
       "      <th>var</th>\n",
       "    </tr>\n",
       "    <tr>\n",
       "      <th>genre</th>\n",
       "      <th></th>\n",
       "      <th></th>\n",
       "      <th></th>\n",
       "      <th></th>\n",
       "      <th></th>\n",
       "      <th></th>\n",
       "      <th></th>\n",
       "    </tr>\n",
       "  </thead>\n",
       "  <tbody>\n",
       "    <tr>\n",
       "      <th>action</th>\n",
       "      <td>5.213924</td>\n",
       "      <td>5.70</td>\n",
       "      <td>0.0</td>\n",
       "      <td>9.5</td>\n",
       "      <td>79</td>\n",
       "      <td>2.478923</td>\n",
       "      <td>6.145060</td>\n",
       "    </tr>\n",
       "    <tr>\n",
       "      <th>biography</th>\n",
       "      <td>6.600000</td>\n",
       "      <td>7.00</td>\n",
       "      <td>3.9</td>\n",
       "      <td>8.5</td>\n",
       "      <td>9</td>\n",
       "      <td>1.586663</td>\n",
       "      <td>2.517500</td>\n",
       "    </tr>\n",
       "    <tr>\n",
       "      <th>comedy</th>\n",
       "      <td>6.221795</td>\n",
       "      <td>6.40</td>\n",
       "      <td>0.0</td>\n",
       "      <td>9.4</td>\n",
       "      <td>78</td>\n",
       "      <td>1.903970</td>\n",
       "      <td>3.625103</td>\n",
       "    </tr>\n",
       "    <tr>\n",
       "      <th>crime</th>\n",
       "      <td>5.826786</td>\n",
       "      <td>6.60</td>\n",
       "      <td>0.0</td>\n",
       "      <td>9.2</td>\n",
       "      <td>56</td>\n",
       "      <td>2.604087</td>\n",
       "      <td>6.781269</td>\n",
       "    </tr>\n",
       "    <tr>\n",
       "      <th>drama</th>\n",
       "      <td>3.836098</td>\n",
       "      <td>5.10</td>\n",
       "      <td>0.0</td>\n",
       "      <td>9.6</td>\n",
       "      <td>205</td>\n",
       "      <td>3.542939</td>\n",
       "      <td>12.552416</td>\n",
       "    </tr>\n",
       "    <tr>\n",
       "      <th>family</th>\n",
       "      <td>4.256250</td>\n",
       "      <td>5.30</td>\n",
       "      <td>0.0</td>\n",
       "      <td>9.0</td>\n",
       "      <td>16</td>\n",
       "      <td>4.031372</td>\n",
       "      <td>16.251958</td>\n",
       "    </tr>\n",
       "    <tr>\n",
       "      <th>history</th>\n",
       "      <td>7.800000</td>\n",
       "      <td>7.80</td>\n",
       "      <td>7.8</td>\n",
       "      <td>7.8</td>\n",
       "      <td>1</td>\n",
       "      <td>NaN</td>\n",
       "      <td>NaN</td>\n",
       "    </tr>\n",
       "    <tr>\n",
       "      <th>horror</th>\n",
       "      <td>5.261538</td>\n",
       "      <td>5.90</td>\n",
       "      <td>0.0</td>\n",
       "      <td>8.8</td>\n",
       "      <td>39</td>\n",
       "      <td>2.312849</td>\n",
       "      <td>5.349271</td>\n",
       "    </tr>\n",
       "    <tr>\n",
       "      <th>romance</th>\n",
       "      <td>5.088889</td>\n",
       "      <td>5.70</td>\n",
       "      <td>0.0</td>\n",
       "      <td>9.3</td>\n",
       "      <td>63</td>\n",
       "      <td>2.663681</td>\n",
       "      <td>7.095197</td>\n",
       "    </tr>\n",
       "    <tr>\n",
       "      <th>sports</th>\n",
       "      <td>5.708333</td>\n",
       "      <td>6.05</td>\n",
       "      <td>0.0</td>\n",
       "      <td>8.6</td>\n",
       "      <td>12</td>\n",
       "      <td>2.105602</td>\n",
       "      <td>4.433561</td>\n",
       "    </tr>\n",
       "    <tr>\n",
       "      <th>thriller</th>\n",
       "      <td>5.664444</td>\n",
       "      <td>6.15</td>\n",
       "      <td>0.0</td>\n",
       "      <td>9.6</td>\n",
       "      <td>90</td>\n",
       "      <td>2.449504</td>\n",
       "      <td>6.000070</td>\n",
       "    </tr>\n",
       "  </tbody>\n",
       "</table>\n",
       "</div>"
      ],
      "text/plain": [
       "               mean  median  min  max  count       std        var\n",
       "genre                                                            \n",
       "action     5.213924    5.70  0.0  9.5     79  2.478923   6.145060\n",
       "biography  6.600000    7.00  3.9  8.5      9  1.586663   2.517500\n",
       "comedy     6.221795    6.40  0.0  9.4     78  1.903970   3.625103\n",
       "crime      5.826786    6.60  0.0  9.2     56  2.604087   6.781269\n",
       "drama      3.836098    5.10  0.0  9.6    205  3.542939  12.552416\n",
       "family     4.256250    5.30  0.0  9.0     16  4.031372  16.251958\n",
       "history    7.800000    7.80  7.8  7.8      1       NaN        NaN\n",
       "horror     5.261538    5.90  0.0  8.8     39  2.312849   5.349271\n",
       "romance    5.088889    5.70  0.0  9.3     63  2.663681   7.095197\n",
       "sports     5.708333    6.05  0.0  8.6     12  2.105602   4.433561\n",
       "thriller   5.664444    6.15  0.0  9.6     90  2.449504   6.000070"
      ]
     },
     "execution_count": 275,
     "metadata": {},
     "output_type": "execute_result"
    }
   ],
   "source": [
    "df_data.groupby(\"genre\").imdb_rating.agg([\"mean\",\"median\",\"min\",\"max\",\"count\",\"std\",\"var\"])"
   ]
  },
  {
   "cell_type": "code",
   "execution_count": null,
   "id": "44c0c53f",
   "metadata": {},
   "outputs": [],
   "source": []
  }
 ],
 "metadata": {
  "kernelspec": {
   "display_name": "Python 3 (ipykernel)",
   "language": "python",
   "name": "python3"
  },
  "language_info": {
   "codemirror_mode": {
    "name": "ipython",
    "version": 3
   },
   "file_extension": ".py",
   "mimetype": "text/x-python",
   "name": "python",
   "nbconvert_exporter": "python",
   "pygments_lexer": "ipython3",
   "version": "3.9.7"
  }
 },
 "nbformat": 4,
 "nbformat_minor": 5
}
